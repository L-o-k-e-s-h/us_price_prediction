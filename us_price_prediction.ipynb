{
 "cells": [
  {
   "cell_type": "code",
   "execution_count": 57,
   "metadata": {},
   "outputs": [
    {
     "data": {
      "text/html": [
       "<div>\n",
       "<style scoped>\n",
       "    .dataframe tbody tr th:only-of-type {\n",
       "        vertical-align: middle;\n",
       "    }\n",
       "\n",
       "    .dataframe tbody tr th {\n",
       "        vertical-align: top;\n",
       "    }\n",
       "\n",
       "    .dataframe thead th {\n",
       "        text-align: right;\n",
       "    }\n",
       "</style>\n",
       "<table border=\"1\" class=\"dataframe\">\n",
       "  <thead>\n",
       "    <tr style=\"text-align: right;\">\n",
       "      <th></th>\n",
       "      <th>DATE</th>\n",
       "      <th>Average_Earning</th>\n",
       "      <th>GDP</th>\n",
       "      <th>Mortgage</th>\n",
       "      <th>Population</th>\n",
       "      <th>Unemployment_Rate</th>\n",
       "      <th>CSUSHPISA</th>\n",
       "    </tr>\n",
       "  </thead>\n",
       "  <tbody>\n",
       "    <tr>\n",
       "      <th>0</th>\n",
       "      <td>01-01-1987</td>\n",
       "      <td>328.0</td>\n",
       "      <td>4722.156</td>\n",
       "      <td>9.2040</td>\n",
       "      <td>230527.0</td>\n",
       "      <td>7.6</td>\n",
       "      <td>63.965</td>\n",
       "    </tr>\n",
       "    <tr>\n",
       "      <th>1</th>\n",
       "      <td>01-02-1987</td>\n",
       "      <td>328.0</td>\n",
       "      <td>4764.158</td>\n",
       "      <td>NaN</td>\n",
       "      <td>NaN</td>\n",
       "      <td>7.6</td>\n",
       "      <td>64.424</td>\n",
       "    </tr>\n",
       "    <tr>\n",
       "      <th>2</th>\n",
       "      <td>01-03-1987</td>\n",
       "      <td>238.0</td>\n",
       "      <td>4764.158</td>\n",
       "      <td>NaN</td>\n",
       "      <td>NaN</td>\n",
       "      <td>7.8</td>\n",
       "      <td>64.736</td>\n",
       "    </tr>\n",
       "    <tr>\n",
       "      <th>3</th>\n",
       "      <td>01-04-1987</td>\n",
       "      <td>328.0</td>\n",
       "      <td>4806.160</td>\n",
       "      <td>9.8325</td>\n",
       "      <td>230732.0</td>\n",
       "      <td>7.9</td>\n",
       "      <td>65.132</td>\n",
       "    </tr>\n",
       "    <tr>\n",
       "      <th>4</th>\n",
       "      <td>01-05-1987</td>\n",
       "      <td>329.0</td>\n",
       "      <td>4.000</td>\n",
       "      <td>NaN</td>\n",
       "      <td>NaN</td>\n",
       "      <td>8.1</td>\n",
       "      <td>65.563</td>\n",
       "    </tr>\n",
       "    <tr>\n",
       "      <th>5</th>\n",
       "      <td>01-06-1987</td>\n",
       "      <td>329.0</td>\n",
       "      <td>NaN</td>\n",
       "      <td>NaN</td>\n",
       "      <td>NaN</td>\n",
       "      <td>8.2</td>\n",
       "      <td>66.071</td>\n",
       "    </tr>\n",
       "    <tr>\n",
       "      <th>6</th>\n",
       "      <td>01-07-1987</td>\n",
       "      <td>330.0</td>\n",
       "      <td>4884.555</td>\n",
       "      <td>10.2780</td>\n",
       "      <td>230906.0</td>\n",
       "      <td>8.3</td>\n",
       "      <td>66.507</td>\n",
       "    </tr>\n",
       "    <tr>\n",
       "      <th>7</th>\n",
       "      <td>01-08-1987</td>\n",
       "      <td>331.0</td>\n",
       "      <td>5007.994</td>\n",
       "      <td>NaN</td>\n",
       "      <td>NaN</td>\n",
       "      <td>8.3</td>\n",
       "      <td>66.938</td>\n",
       "    </tr>\n",
       "  </tbody>\n",
       "</table>\n",
       "</div>"
      ],
      "text/plain": [
       "         DATE  Average_Earning       GDP  Mortgage  Population  \\\n",
       "0  01-01-1987            328.0  4722.156    9.2040    230527.0   \n",
       "1  01-02-1987            328.0  4764.158       NaN         NaN   \n",
       "2  01-03-1987            238.0  4764.158       NaN         NaN   \n",
       "3  01-04-1987            328.0  4806.160    9.8325    230732.0   \n",
       "4  01-05-1987            329.0     4.000       NaN         NaN   \n",
       "5  01-06-1987            329.0       NaN       NaN         NaN   \n",
       "6  01-07-1987            330.0  4884.555   10.2780    230906.0   \n",
       "7  01-08-1987            331.0  5007.994       NaN         NaN   \n",
       "\n",
       "   Unemployment_Rate  CSUSHPISA  \n",
       "0                7.6     63.965  \n",
       "1                7.6     64.424  \n",
       "2                7.8     64.736  \n",
       "3                7.9     65.132  \n",
       "4                8.1     65.563  \n",
       "5                8.2     66.071  \n",
       "6                8.3     66.507  \n",
       "7                8.3     66.938  "
      ]
     },
     "execution_count": 57,
     "metadata": {},
     "output_type": "execute_result"
    }
   ],
   "source": [
    "import pandas as pd\n",
    "df=pd.read_csv(\"C:\\\\Users\\\\lokes\\\\OneDrive\\\\Desktop\\\\US_price_data.csv\")\n",
    "df.head(8)"
   ]
  },
  {
   "cell_type": "code",
   "execution_count": 58,
   "metadata": {},
   "outputs": [
    {
     "data": {
      "text/html": [
       "<div>\n",
       "<style scoped>\n",
       "    .dataframe tbody tr th:only-of-type {\n",
       "        vertical-align: middle;\n",
       "    }\n",
       "\n",
       "    .dataframe tbody tr th {\n",
       "        vertical-align: top;\n",
       "    }\n",
       "\n",
       "    .dataframe thead th {\n",
       "        text-align: right;\n",
       "    }\n",
       "</style>\n",
       "<table border=\"1\" class=\"dataframe\">\n",
       "  <thead>\n",
       "    <tr style=\"text-align: right;\">\n",
       "      <th></th>\n",
       "      <th>DATE</th>\n",
       "      <th>Average_Earning</th>\n",
       "      <th>GDP</th>\n",
       "      <th>Mortgage</th>\n",
       "      <th>Population</th>\n",
       "      <th>Unemployment_Rate</th>\n",
       "      <th>CSUSHPISA</th>\n",
       "    </tr>\n",
       "  </thead>\n",
       "  <tbody>\n",
       "    <tr>\n",
       "      <th>0</th>\n",
       "      <td>01-01-1987</td>\n",
       "      <td>328.0</td>\n",
       "      <td>4722.156</td>\n",
       "      <td>9.204000</td>\n",
       "      <td>230527.000000</td>\n",
       "      <td>7.6</td>\n",
       "      <td>63.965</td>\n",
       "    </tr>\n",
       "    <tr>\n",
       "      <th>1</th>\n",
       "      <td>01-02-1987</td>\n",
       "      <td>328.0</td>\n",
       "      <td>4764.158</td>\n",
       "      <td>9.413500</td>\n",
       "      <td>230595.333333</td>\n",
       "      <td>7.6</td>\n",
       "      <td>64.424</td>\n",
       "    </tr>\n",
       "    <tr>\n",
       "      <th>2</th>\n",
       "      <td>01-03-1987</td>\n",
       "      <td>238.0</td>\n",
       "      <td>4764.158</td>\n",
       "      <td>9.623000</td>\n",
       "      <td>230663.666667</td>\n",
       "      <td>7.8</td>\n",
       "      <td>64.736</td>\n",
       "    </tr>\n",
       "    <tr>\n",
       "      <th>3</th>\n",
       "      <td>01-04-1987</td>\n",
       "      <td>328.0</td>\n",
       "      <td>4806.160</td>\n",
       "      <td>9.832500</td>\n",
       "      <td>230732.000000</td>\n",
       "      <td>7.9</td>\n",
       "      <td>65.132</td>\n",
       "    </tr>\n",
       "    <tr>\n",
       "      <th>4</th>\n",
       "      <td>01-05-1987</td>\n",
       "      <td>329.0</td>\n",
       "      <td>4.000</td>\n",
       "      <td>9.981000</td>\n",
       "      <td>230790.000000</td>\n",
       "      <td>8.1</td>\n",
       "      <td>65.563</td>\n",
       "    </tr>\n",
       "    <tr>\n",
       "      <th>...</th>\n",
       "      <td>...</td>\n",
       "      <td>...</td>\n",
       "      <td>...</td>\n",
       "      <td>...</td>\n",
       "      <td>...</td>\n",
       "      <td>...</td>\n",
       "      <td>...</td>\n",
       "    </tr>\n",
       "    <tr>\n",
       "      <th>435</th>\n",
       "      <td>01-04-2023</td>\n",
       "      <td>363.0</td>\n",
       "      <td>26121.210</td>\n",
       "      <td>5.832000</td>\n",
       "      <td>333490.000000</td>\n",
       "      <td>3.7</td>\n",
       "      <td>300.198</td>\n",
       "    </tr>\n",
       "    <tr>\n",
       "      <th>436</th>\n",
       "      <td>01-05-2023</td>\n",
       "      <td>368.5</td>\n",
       "      <td>26187.265</td>\n",
       "      <td>5.862333</td>\n",
       "      <td>333492.333333</td>\n",
       "      <td>3.7</td>\n",
       "      <td>302.620</td>\n",
       "    </tr>\n",
       "    <tr>\n",
       "      <th>437</th>\n",
       "      <td>01-06-2023</td>\n",
       "      <td>374.0</td>\n",
       "      <td>26253.320</td>\n",
       "      <td>5.892667</td>\n",
       "      <td>333494.666667</td>\n",
       "      <td>3.7</td>\n",
       "      <td>304.651</td>\n",
       "    </tr>\n",
       "    <tr>\n",
       "      <th>438</th>\n",
       "      <td>01-07-2023</td>\n",
       "      <td>371.5</td>\n",
       "      <td>26253.320</td>\n",
       "      <td>5.923000</td>\n",
       "      <td>333497.000000</td>\n",
       "      <td>3.7</td>\n",
       "      <td>306.634</td>\n",
       "    </tr>\n",
       "    <tr>\n",
       "      <th>439</th>\n",
       "      <td>01-08-2023</td>\n",
       "      <td>369.0</td>\n",
       "      <td>26253.320</td>\n",
       "      <td>5.923000</td>\n",
       "      <td>333497.000000</td>\n",
       "      <td>3.7</td>\n",
       "      <td>309.404</td>\n",
       "    </tr>\n",
       "  </tbody>\n",
       "</table>\n",
       "<p>440 rows × 7 columns</p>\n",
       "</div>"
      ],
      "text/plain": [
       "           DATE  Average_Earning        GDP  Mortgage     Population  \\\n",
       "0    01-01-1987            328.0   4722.156  9.204000  230527.000000   \n",
       "1    01-02-1987            328.0   4764.158  9.413500  230595.333333   \n",
       "2    01-03-1987            238.0   4764.158  9.623000  230663.666667   \n",
       "3    01-04-1987            328.0   4806.160  9.832500  230732.000000   \n",
       "4    01-05-1987            329.0      4.000  9.981000  230790.000000   \n",
       "..          ...              ...        ...       ...            ...   \n",
       "435  01-04-2023            363.0  26121.210  5.832000  333490.000000   \n",
       "436  01-05-2023            368.5  26187.265  5.862333  333492.333333   \n",
       "437  01-06-2023            374.0  26253.320  5.892667  333494.666667   \n",
       "438  01-07-2023            371.5  26253.320  5.923000  333497.000000   \n",
       "439  01-08-2023            369.0  26253.320  5.923000  333497.000000   \n",
       "\n",
       "     Unemployment_Rate  CSUSHPISA  \n",
       "0                  7.6     63.965  \n",
       "1                  7.6     64.424  \n",
       "2                  7.8     64.736  \n",
       "3                  7.9     65.132  \n",
       "4                  8.1     65.563  \n",
       "..                 ...        ...  \n",
       "435                3.7    300.198  \n",
       "436                3.7    302.620  \n",
       "437                3.7    304.651  \n",
       "438                3.7    306.634  \n",
       "439                3.7    309.404  \n",
       "\n",
       "[440 rows x 7 columns]"
      ]
     },
     "execution_count": 58,
     "metadata": {},
     "output_type": "execute_result"
    }
   ],
   "source": [
    "df1=df.interpolate()\n",
    "df1"
   ]
  },
  {
   "cell_type": "code",
   "execution_count": 59,
   "metadata": {},
   "outputs": [],
   "source": [
    "import pandas as pd\n",
    "from sklearn.model_selection import train_test_split\n",
    "from sklearn.linear_model import LinearRegression\n",
    "from sklearn.metrics import mean_squared_error, r2_score\n",
    "import matplotlib.pyplot as plt"
   ]
  },
  {
   "cell_type": "code",
   "execution_count": 60,
   "metadata": {},
   "outputs": [],
   "source": [
    "df1['DATE'] = pd.to_datetime(df1['DATE'])\n",
    "selected_features = ['Average_Earning', 'GDP', 'Mortgage', 'Population', 'Unemployment_Rate']"
   ]
  },
  {
   "cell_type": "code",
   "execution_count": 61,
   "metadata": {},
   "outputs": [],
   "source": [
    "X = df1[selected_features]\n",
    "y = df1['CSUSHPISA']"
   ]
  },
  {
   "cell_type": "code",
   "execution_count": 62,
   "metadata": {},
   "outputs": [],
   "source": [
    "X_train, X_test, y_train, y_test = train_test_split(X, y, test_size=0.2, random_state=42)\n",
    "model = LinearRegression()"
   ]
  },
  {
   "cell_type": "code",
   "execution_count": 63,
   "metadata": {},
   "outputs": [
    {
     "data": {
      "text/html": [
       "<style>#sk-container-id-3 {color: black;}#sk-container-id-3 pre{padding: 0;}#sk-container-id-3 div.sk-toggleable {background-color: white;}#sk-container-id-3 label.sk-toggleable__label {cursor: pointer;display: block;width: 100%;margin-bottom: 0;padding: 0.3em;box-sizing: border-box;text-align: center;}#sk-container-id-3 label.sk-toggleable__label-arrow:before {content: \"▸\";float: left;margin-right: 0.25em;color: #696969;}#sk-container-id-3 label.sk-toggleable__label-arrow:hover:before {color: black;}#sk-container-id-3 div.sk-estimator:hover label.sk-toggleable__label-arrow:before {color: black;}#sk-container-id-3 div.sk-toggleable__content {max-height: 0;max-width: 0;overflow: hidden;text-align: left;background-color: #f0f8ff;}#sk-container-id-3 div.sk-toggleable__content pre {margin: 0.2em;color: black;border-radius: 0.25em;background-color: #f0f8ff;}#sk-container-id-3 input.sk-toggleable__control:checked~div.sk-toggleable__content {max-height: 200px;max-width: 100%;overflow: auto;}#sk-container-id-3 input.sk-toggleable__control:checked~label.sk-toggleable__label-arrow:before {content: \"▾\";}#sk-container-id-3 div.sk-estimator input.sk-toggleable__control:checked~label.sk-toggleable__label {background-color: #d4ebff;}#sk-container-id-3 div.sk-label input.sk-toggleable__control:checked~label.sk-toggleable__label {background-color: #d4ebff;}#sk-container-id-3 input.sk-hidden--visually {border: 0;clip: rect(1px 1px 1px 1px);clip: rect(1px, 1px, 1px, 1px);height: 1px;margin: -1px;overflow: hidden;padding: 0;position: absolute;width: 1px;}#sk-container-id-3 div.sk-estimator {font-family: monospace;background-color: #f0f8ff;border: 1px dotted black;border-radius: 0.25em;box-sizing: border-box;margin-bottom: 0.5em;}#sk-container-id-3 div.sk-estimator:hover {background-color: #d4ebff;}#sk-container-id-3 div.sk-parallel-item::after {content: \"\";width: 100%;border-bottom: 1px solid gray;flex-grow: 1;}#sk-container-id-3 div.sk-label:hover label.sk-toggleable__label {background-color: #d4ebff;}#sk-container-id-3 div.sk-serial::before {content: \"\";position: absolute;border-left: 1px solid gray;box-sizing: border-box;top: 0;bottom: 0;left: 50%;z-index: 0;}#sk-container-id-3 div.sk-serial {display: flex;flex-direction: column;align-items: center;background-color: white;padding-right: 0.2em;padding-left: 0.2em;position: relative;}#sk-container-id-3 div.sk-item {position: relative;z-index: 1;}#sk-container-id-3 div.sk-parallel {display: flex;align-items: stretch;justify-content: center;background-color: white;position: relative;}#sk-container-id-3 div.sk-item::before, #sk-container-id-3 div.sk-parallel-item::before {content: \"\";position: absolute;border-left: 1px solid gray;box-sizing: border-box;top: 0;bottom: 0;left: 50%;z-index: -1;}#sk-container-id-3 div.sk-parallel-item {display: flex;flex-direction: column;z-index: 1;position: relative;background-color: white;}#sk-container-id-3 div.sk-parallel-item:first-child::after {align-self: flex-end;width: 50%;}#sk-container-id-3 div.sk-parallel-item:last-child::after {align-self: flex-start;width: 50%;}#sk-container-id-3 div.sk-parallel-item:only-child::after {width: 0;}#sk-container-id-3 div.sk-dashed-wrapped {border: 1px dashed gray;margin: 0 0.4em 0.5em 0.4em;box-sizing: border-box;padding-bottom: 0.4em;background-color: white;}#sk-container-id-3 div.sk-label label {font-family: monospace;font-weight: bold;display: inline-block;line-height: 1.2em;}#sk-container-id-3 div.sk-label-container {text-align: center;}#sk-container-id-3 div.sk-container {/* jupyter's `normalize.less` sets `[hidden] { display: none; }` but bootstrap.min.css set `[hidden] { display: none !important; }` so we also need the `!important` here to be able to override the default hidden behavior on the sphinx rendered scikit-learn.org. See: https://github.com/scikit-learn/scikit-learn/issues/21755 */display: inline-block !important;position: relative;}#sk-container-id-3 div.sk-text-repr-fallback {display: none;}</style><div id=\"sk-container-id-3\" class=\"sk-top-container\"><div class=\"sk-text-repr-fallback\"><pre>LinearRegression()</pre><b>In a Jupyter environment, please rerun this cell to show the HTML representation or trust the notebook. <br />On GitHub, the HTML representation is unable to render, please try loading this page with nbviewer.org.</b></div><div class=\"sk-container\" hidden><div class=\"sk-item\"><div class=\"sk-estimator sk-toggleable\"><input class=\"sk-toggleable__control sk-hidden--visually\" id=\"sk-estimator-id-3\" type=\"checkbox\" checked><label for=\"sk-estimator-id-3\" class=\"sk-toggleable__label sk-toggleable__label-arrow\">LinearRegression</label><div class=\"sk-toggleable__content\"><pre>LinearRegression()</pre></div></div></div></div></div>"
      ],
      "text/plain": [
       "LinearRegression()"
      ]
     },
     "execution_count": 63,
     "metadata": {},
     "output_type": "execute_result"
    }
   ],
   "source": [
    "model.fit(X_train, y_train)"
   ]
  },
  {
   "cell_type": "code",
   "execution_count": 71,
   "metadata": {},
   "outputs": [
    {
     "data": {
      "text/plain": [
       "array([153.07797809,  60.65554838, 179.2735272 , 166.17186384,\n",
       "       176.97020344, 162.3425327 , 131.47856503,  59.22199707,\n",
       "       305.69997548, 219.5057966 , 151.6906634 ,  61.95911076,\n",
       "       141.43163009, 215.89681503, 176.20907774,  61.61508393,\n",
       "       301.38894922, 123.00072465,  64.99416872, 111.52361782,\n",
       "        88.90936301, 127.44350395,  77.18205676, 122.87386619,\n",
       "        75.20124673,  82.94624755,  66.11025717, 142.54206152,\n",
       "       286.41445849,  73.84638523, 157.28313651, 173.17534557,\n",
       "       115.40869662, 217.22241193, 200.59718135,  66.04019758,\n",
       "       129.332032  ,  77.27087721,  84.35575315, 162.14259614,\n",
       "       221.11223681,  82.23373553, 155.10549264,  59.84186706,\n",
       "       113.46466672,  78.57491152, 133.04521293, 158.3122016 ,\n",
       "        60.99957522, 224.950988  , 223.55299452,  77.17744818,\n",
       "        95.94014296,  85.1543596 ,  62.65764878,  80.34674592,\n",
       "       157.1783835 , 161.6779575 ,  71.25081126, 158.56209389,\n",
       "       106.55079407,  87.28217721, 160.47041854, 224.15700018,\n",
       "       153.47914263, 290.60955389,  87.23056366, 132.69143538,\n",
       "       301.94083944,  85.8152681 ,  78.86634893, 223.0321993 ,\n",
       "       223.08020369, 158.33378313, 129.84387411,  89.11888966,\n",
       "       154.49023372,  81.77905111,  79.57018036,  82.0483502 ,\n",
       "       171.97500679,  86.2590084 , 291.24552505,  68.79816455,\n",
       "        85.53911738,  85.85357173,  79.70156506,  65.16344365])"
      ]
     },
     "execution_count": 71,
     "metadata": {},
     "output_type": "execute_result"
    }
   ],
   "source": [
    "predictions1 = model.predict(X_test)\n",
    "predictions1"
   ]
  },
  {
   "cell_type": "code",
   "execution_count": 80,
   "metadata": {},
   "outputs": [
    {
     "name": "stdout",
     "output_type": "stream",
     "text": [
      "Mean Squared Error: 167.21691958055774\n",
      "R-squared: 0.9604068077738616\n"
     ]
    }
   ],
   "source": [
    "mse = mean_squared_error(y_test, predictions1)\n",
    "r2 = r2_score(y_test, predictions1)\n",
    "print(f'Mean Squared Error: {mse}')\n",
    "print(f'R-squared: {r2}')"
   ]
  },
  {
   "cell_type": "code",
   "execution_count": 78,
   "metadata": {},
   "outputs": [
    {
     "data": {
      "image/png": "[encoded data removed]",
      "text/plain": [
       "<Figure size 640x480 with 1 Axes>"
      ]
     },
     "metadata": {},
     "output_type": "display_data"
    }
   ],
   "source": [
    "plt.scatter(y_test, predictions1)\n",
    "plt.xlabel(\"Actual Prices\")\n",
    "plt.ylabel(\"Predicted Prices\")\n",
    "plt.title(\"Actual Prices vs. Predicted Prices\")\n",
    "plt.show()"
   ]
  },
  {
   "cell_type": "code",
   "execution_count": 67,
   "metadata": {},
   "outputs": [],
   "source": [
    "from sklearn.ensemble import RandomForestRegressor\n"
   ]
  },
  {
   "cell_type": "code",
   "execution_count": 81,
   "metadata": {},
   "outputs": [
    {
     "data": {
      "text/html": [
       "<style>#sk-container-id-5 {color: black;}#sk-container-id-5 pre{padding: 0;}#sk-container-id-5 div.sk-toggleable {background-color: white;}#sk-container-id-5 label.sk-toggleable__label {cursor: pointer;display: block;width: 100%;margin-bottom: 0;padding: 0.3em;box-sizing: border-box;text-align: center;}#sk-container-id-5 label.sk-toggleable__label-arrow:before {content: \"▸\";float: left;margin-right: 0.25em;color: #696969;}#sk-container-id-5 label.sk-toggleable__label-arrow:hover:before {color: black;}#sk-container-id-5 div.sk-estimator:hover label.sk-toggleable__label-arrow:before {color: black;}#sk-container-id-5 div.sk-toggleable__content {max-height: 0;max-width: 0;overflow: hidden;text-align: left;background-color: #f0f8ff;}#sk-container-id-5 div.sk-toggleable__content pre {margin: 0.2em;color: black;border-radius: 0.25em;background-color: #f0f8ff;}#sk-container-id-5 input.sk-toggleable__control:checked~div.sk-toggleable__content {max-height: 200px;max-width: 100%;overflow: auto;}#sk-container-id-5 input.sk-toggleable__control:checked~label.sk-toggleable__label-arrow:before {content: \"▾\";}#sk-container-id-5 div.sk-estimator input.sk-toggleable__control:checked~label.sk-toggleable__label {background-color: #d4ebff;}#sk-container-id-5 div.sk-label input.sk-toggleable__control:checked~label.sk-toggleable__label {background-color: #d4ebff;}#sk-container-id-5 input.sk-hidden--visually {border: 0;clip: rect(1px 1px 1px 1px);clip: rect(1px, 1px, 1px, 1px);height: 1px;margin: -1px;overflow: hidden;padding: 0;position: absolute;width: 1px;}#sk-container-id-5 div.sk-estimator {font-family: monospace;background-color: #f0f8ff;border: 1px dotted black;border-radius: 0.25em;box-sizing: border-box;margin-bottom: 0.5em;}#sk-container-id-5 div.sk-estimator:hover {background-color: #d4ebff;}#sk-container-id-5 div.sk-parallel-item::after {content: \"\";width: 100%;border-bottom: 1px solid gray;flex-grow: 1;}#sk-container-id-5 div.sk-label:hover label.sk-toggleable__label {background-color: #d4ebff;}#sk-container-id-5 div.sk-serial::before {content: \"\";position: absolute;border-left: 1px solid gray;box-sizing: border-box;top: 0;bottom: 0;left: 50%;z-index: 0;}#sk-container-id-5 div.sk-serial {display: flex;flex-direction: column;align-items: center;background-color: white;padding-right: 0.2em;padding-left: 0.2em;position: relative;}#sk-container-id-5 div.sk-item {position: relative;z-index: 1;}#sk-container-id-5 div.sk-parallel {display: flex;align-items: stretch;justify-content: center;background-color: white;position: relative;}#sk-container-id-5 div.sk-item::before, #sk-container-id-5 div.sk-parallel-item::before {content: \"\";position: absolute;border-left: 1px solid gray;box-sizing: border-box;top: 0;bottom: 0;left: 50%;z-index: -1;}#sk-container-id-5 div.sk-parallel-item {display: flex;flex-direction: column;z-index: 1;position: relative;background-color: white;}#sk-container-id-5 div.sk-parallel-item:first-child::after {align-self: flex-end;width: 50%;}#sk-container-id-5 div.sk-parallel-item:last-child::after {align-self: flex-start;width: 50%;}#sk-container-id-5 div.sk-parallel-item:only-child::after {width: 0;}#sk-container-id-5 div.sk-dashed-wrapped {border: 1px dashed gray;margin: 0 0.4em 0.5em 0.4em;box-sizing: border-box;padding-bottom: 0.4em;background-color: white;}#sk-container-id-5 div.sk-label label {font-family: monospace;font-weight: bold;display: inline-block;line-height: 1.2em;}#sk-container-id-5 div.sk-label-container {text-align: center;}#sk-container-id-5 div.sk-container {/* jupyter's `normalize.less` sets `[hidden] { display: none; }` but bootstrap.min.css set `[hidden] { display: none !important; }` so we also need the `!important` here to be able to override the default hidden behavior on the sphinx rendered scikit-learn.org. See: https://github.com/scikit-learn/scikit-learn/issues/21755 */display: inline-block !important;position: relative;}#sk-container-id-5 div.sk-text-repr-fallback {display: none;}</style><div id=\"sk-container-id-5\" class=\"sk-top-container\"><div class=\"sk-text-repr-fallback\"><pre>RandomForestRegressor(random_state=42)</pre><b>In a Jupyter environment, please rerun this cell to show the HTML representation or trust the notebook. <br />On GitHub, the HTML representation is unable to render, please try loading this page with nbviewer.org.</b></div><div class=\"sk-container\" hidden><div class=\"sk-item\"><div class=\"sk-estimator sk-toggleable\"><input class=\"sk-toggleable__control sk-hidden--visually\" id=\"sk-estimator-id-5\" type=\"checkbox\" checked><label for=\"sk-estimator-id-5\" class=\"sk-toggleable__label sk-toggleable__label-arrow\">RandomForestRegressor</label><div class=\"sk-toggleable__content\"><pre>RandomForestRegressor(random_state=42)</pre></div></div></div></div></div>"
      ],
      "text/plain": [
       "RandomForestRegressor(random_state=42)"
      ]
     },
     "execution_count": 81,
     "metadata": {},
     "output_type": "execute_result"
    }
   ],
   "source": [
    "RFR = RandomForestRegressor(n_estimators=100, random_state=42)\n",
    "RFR.fit(X_train, y_train)"
   ]
  },
  {
   "cell_type": "code",
   "execution_count": 83,
   "metadata": {},
   "outputs": [
    {
     "data": {
      "text/plain": [
       "array([149.42754,  77.79301, 176.44049, 168.48007, 162.66221, 141.0628 ,\n",
       "       120.68077,  78.2551 , 307.26411, 229.74734, 180.07635,  76.9438 ,\n",
       "       163.73483, 215.56579, 172.07808,  77.29072, 300.49715, 130.03896,\n",
       "        76.68864, 100.1324 ,  67.70347, 115.22032,  75.77823, 128.15521,\n",
       "        81.38258,  88.15198,  76.51222, 169.7899 , 301.97146,  75.97179,\n",
       "       139.87877, 166.82874, 101.72005, 201.75678, 193.21012,  76.57499,\n",
       "       141.19887,  80.8089 ,  76.76283, 183.50768, 203.82547,  86.7666 ,\n",
       "       183.37711,  77.92787, 100.94904,  76.06871, 118.63536, 138.85837,\n",
       "        77.59978, 204.98729, 206.29116,  70.2522 ,  95.07357,  85.42921,\n",
       "        65.04565,  71.8353 , 144.91376, 141.0662 ,  75.98541, 138.23092,\n",
       "        97.31695,  80.05651, 141.90748, 214.1161 , 142.39642, 299.5218 ,\n",
       "        74.68487, 116.59265, 298.2454 ,  82.71291,  76.91369, 208.87585,\n",
       "       206.86938, 147.12061, 112.10337,  84.61893, 143.51771,  72.94105,\n",
       "        76.78089,  79.57721, 179.95712,  83.25208, 299.5425 ,  76.0349 ,\n",
       "        89.51948,  73.87535,  70.69267,  76.30365])"
      ]
     },
     "execution_count": 83,
     "metadata": {},
     "output_type": "execute_result"
    }
   ],
   "source": [
    "predictions2 = RFR.predict(X_test)\n",
    "predictions2"
   ]
  },
  {
   "cell_type": "code",
   "execution_count": 84,
   "metadata": {},
   "outputs": [
    {
     "name": "stdout",
     "output_type": "stream",
     "text": [
      "Mean Squared Error: 0.7272467343886809\n",
      "R-squared: 0.9998278043883196\n"
     ]
    }
   ],
   "source": [
    "mse1 = mean_squared_error(y_test, predictions2)\n",
    "r3 = r2_score(y_test, predictions2)\n",
    "print(f'Mean Squared Error: {mse1}')\n",
    "print(f'R-squared: {r3}')"
   ]
  },
  {
   "cell_type": "code",
   "execution_count": 85,
   "metadata": {},
   "outputs": [
    {
     "data": {
      "image/png": "[encoded data removed]",
      "text/plain": [
       "<Figure size 640x480 with 1 Axes>"
      ]
     },
     "metadata": {},
     "output_type": "display_data"
    }
   ],
   "source": [
    "plt.scatter(y_test, predictions2)\n",
    "plt.xlabel(\"Actual Prices\")\n",
    "plt.ylabel(\"Predicted Prices\")\n",
    "plt.title(\"Actual Prices vs. Predicted Prices\")\n",
    "plt.show()"
   ]
  }
 ],
 "metadata": {
  "kernelspec": {
   "display_name": "base",
   "language": "python",
   "name": "python3"
  },
  "language_info": {
   "codemirror_mode": {
    "name": "ipython",
    "version": 3
   },
   "file_extension": ".py",
   "mimetype": "text/x-python",
   "name": "python",
   "nbconvert_exporter": "python",
   "pygments_lexer": "ipython3",
   "version": "3.11.5"
  }
 },
 "nbformat": 4,
 "nbformat_minor": 2
}
